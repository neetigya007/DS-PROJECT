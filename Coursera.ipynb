{
 "cells": [
  {
   "cell_type": "markdown",
   "id": "40719d7f",
   "metadata": {},
   "source": [
    "## Title"
   ]
  },
  {
   "cell_type": "markdown",
   "id": "9977270b",
   "metadata": {},
   "source": [
    "## Introduction\n",
    "\n",
    "In this notebook, we will explore various tools, libraries, and programming languages used in the field of Data Science. Additionally, we will demonstrate simple arithmetic operations using Python.\n"
   ]
  },
  {
   "cell_type": "markdown",
   "id": "94822ad6",
   "metadata": {},
   "source": [
    "## Popular Languages in Data Science\n",
    "\n",
    "Some of the most widely used programming languages in Data Science are:\n",
    "\n",
    "- Python  \n",
    "- R  \n",
    "- SQL  \n",
    "- Julia  \n",
    "- Scala\n"
   ]
  },
  {
   "cell_type": "markdown",
   "id": "456e34a8",
   "metadata": {},
   "source": [
    "## Commonly Used Libraries in Data Science\n",
    "\n",
    "The following libraries are essential for data manipulation, analysis, and machine learning:\n",
    "\n",
    "- Pandas  \n",
    "- NumPy  \n",
    "- Matplotlib  \n",
    "- Scikit-learn  \n",
    "- TensorFlow  \n",
    "- Keras\n"
   ]
  },
  {
   "cell_type": "markdown",
   "id": "bdb5535f",
   "metadata": {},
   "source": [
    "## Table of Data Science Tools\n",
    "\n",
    "| Category           | Tool              |\n",
    "|--------------------|-------------------|\n",
    "| Data Analysis      | Pandas            |\n",
    "| Data Visualization | Matplotlib        |\n",
    "| Machine Learning   | Scikit-learn      |\n",
    "| Deep Learning      | TensorFlow, Keras |\n",
    "| Big Data           | Apache Spark      |\n"
   ]
  },
  {
   "cell_type": "markdown",
   "id": "16f30b70",
   "metadata": {},
   "source": [
    "## Arithmetic Expressions Examples\n",
    "\n",
    "We can perform various arithmetic operations in Python, such as addition, subtraction, multiplication, and division. Below is an example of using Python code to do basic calculations.\n"
   ]
  },
  {
   "cell_type": "code",
   "execution_count": 5,
   "id": "6a788200",
   "metadata": {},
   "outputs": [
    {
     "data": {
      "text/plain": [
       "22"
      ]
     },
     "execution_count": 5,
     "metadata": {},
     "output_type": "execute_result"
    }
   ],
   "source": [
    "# Multiply and Add Numbers\n",
    "(5*4)+2\n"
   ]
  },
  {
   "cell_type": "code",
   "execution_count": 6,
   "id": "d1ba90c7",
   "metadata": {},
   "outputs": [
    {
     "data": {
      "text/plain": [
       "2.0"
      ]
     },
     "execution_count": 6,
     "metadata": {},
     "output_type": "execute_result"
    }
   ],
   "source": [
    "# Convert 120 minutes to hours\n",
    "minutes = 120\n",
    "hours = minutes / 60\n",
    "hours\n"
   ]
  },
  {
   "cell_type": "markdown",
   "id": "01e548d5",
   "metadata": {},
   "source": [
    "## Objectives\n",
    "\n",
    "- List popular languages in Data Science  \n",
    "- List commonly used libraries in Data Science  \n",
    "- Show examples of arithmetic operations  \n",
    "- Create and format tables using Markdown  \n",
    "- Practice basic Python syntax  \n"
   ]
  },
  {
   "cell_type": "markdown",
   "id": "17d220e4",
   "metadata": {},
   "source": [
    "## Author\n",
    "\n",
    "Neetigya Vikram\n"
   ]
  }
 ],
 "metadata": {
  "kernelspec": {
   "display_name": "Python 3",
   "language": "python",
   "name": "python3"
  },
  "language_info": {
   "codemirror_mode": {
    "name": "ipython",
    "version": 3
   },
   "file_extension": ".py",
   "mimetype": "text/x-python",
   "name": "python",
   "nbconvert_exporter": "python",
   "pygments_lexer": "ipython3",
   "version": "3.13.0"
  }
 },
 "nbformat": 4,
 "nbformat_minor": 5
}
